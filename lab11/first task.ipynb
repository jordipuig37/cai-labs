{
 "cells": [
  {
   "cell_type": "code",
   "execution_count": 11,
   "metadata": {},
   "outputs": [],
   "source": [
    "from igraph import Graph\n",
    "from igraph import plot\n",
    "import numpy as np\n",
    "import matplotlib.pyplot as plt\n",
    "from IPython import display"
   ]
  },
  {
   "cell_type": "code",
   "execution_count": 61,
   "metadata": {},
   "outputs": [
    {
     "data": {
      "text/plain": [
       "array([0.        , 0.001     , 0.0011514 , 0.00132571, 0.00152642,\n",
       "       0.00175751, 0.00202359, 0.00232995, 0.0026827 , 0.00308884,\n",
       "       0.00355648, 0.00409492, 0.00471487, 0.00542868, 0.00625055,\n",
       "       0.00719686, 0.00828643, 0.00954095, 0.01098541, 0.01264855,\n",
       "       0.01456348, 0.01676833, 0.01930698, 0.02222996, 0.02559548,\n",
       "       0.02947052, 0.03393222, 0.0390694 , 0.04498433, 0.05179475,\n",
       "       0.05963623, 0.06866488, 0.07906043, 0.09102982, 0.10481131,\n",
       "       0.12067926, 0.13894955, 0.15998587, 0.184207  , 0.21209509,\n",
       "       0.24420531, 0.28117687, 0.32374575, 0.37275937, 0.42919343,\n",
       "       0.49417134, 0.5689866 , 0.65512856, 0.75431201, 0.86851137,\n",
       "       1.        ])"
      ]
     },
     "execution_count": 61,
     "metadata": {},
     "output_type": "execute_result"
    }
   ],
   "source": [
    "k = 100\n",
    "p_vals = np.concatenate([[0], np.logspace(-3, 0)])\n",
    "p_vals"
   ]
  },
  {
   "cell_type": "code",
   "execution_count": 62,
   "metadata": {},
   "outputs": [],
   "source": [
    "avg_len = []\n",
    "clust_coef = []\n",
    "val1 = 0\n",
    "val2 = 0\n",
    "N = 500\n",
    "for p in p_vals:\n",
    "    watts = Graph.Watts_Strogatz(1, N, 2, p)\n",
    "    if p == 0:\n",
    "        val1 = watts.average_path_length()\n",
    "        val2 = watts.transitivity_undirected()\n",
    "    avg_len.append(watts.average_path_length() / val1)\n",
    "    clust_coef.append(watts.transitivity_undirected() / val2)"
   ]
  },
  {
   "cell_type": "code",
   "execution_count": 64,
   "metadata": {},
   "outputs": [
    {
     "data": {
      "image/png": "[encoded data removed]",
      "text/plain": [
       "<Figure size 432x288 with 1 Axes>"
      ]
     },
     "metadata": {
      "needs_background": "light"
     },
     "output_type": "display_data"
    }
   ],
   "source": [
    "plt.plot(p_vals, clust_coef)\n",
    "plt.plot(p_vals, avg_len)\n",
    "plt.xscale(\"log\")"
   ]
  },
  {
   "cell_type": "markdown",
   "metadata": {},
   "source": [
    "This should do it"
   ]
  }
 ],
 "metadata": {
  "kernelspec": {
   "display_name": "Python 3",
   "language": "python",
   "name": "python3"
  },
  "language_info": {
   "codemirror_mode": {
    "name": "ipython",
    "version": 3
   },
   "file_extension": ".py",
   "mimetype": "text/x-python",
   "name": "python",
   "nbconvert_exporter": "python",
   "pygments_lexer": "ipython3",
   "version": "3.7.3"
  }
 },
 "nbformat": 4,
 "nbformat_minor": 4
}
