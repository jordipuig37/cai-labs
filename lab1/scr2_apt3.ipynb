{
 "cells": [
  {
   "cell_type": "code",
   "execution_count": 1,
   "metadata": {},
   "outputs": [],
   "source": [
    "import matplotlib.pyplot as plt\n",
    "import pandas as pd\n",
    "import numpy as np"
   ]
  },
  {
   "cell_type": "code",
   "execution_count": 4,
   "metadata": {},
   "outputs": [
    {
     "data": {
      "text/html": [
       "<div>\n",
       "<style scoped>\n",
       "    .dataframe tbody tr th:only-of-type {\n",
       "        vertical-align: middle;\n",
       "    }\n",
       "\n",
       "    .dataframe tbody tr th {\n",
       "        vertical-align: top;\n",
       "    }\n",
       "\n",
       "    .dataframe thead th {\n",
       "        text-align: right;\n",
       "    }\n",
       "</style>\n",
       "<table border=\"1\" class=\"dataframe\">\n",
       "  <thead>\n",
       "    <tr style=\"text-align: right;\">\n",
       "      <th></th>\n",
       "      <th>Order</th>\n",
       "      <th>River</th>\n",
       "      <th>Length (km)</th>\n",
       "      <th>Length (miles)</th>\n",
       "      <th>Drainage area (km2)</th>\n",
       "      <th>Average discharge (m3/s)</th>\n",
       "      <th>Outflow</th>\n",
       "      <th>Countries in the drainage basin</th>\n",
       "    </tr>\n",
       "  </thead>\n",
       "  <tbody>\n",
       "    <tr>\n",
       "      <th>0</th>\n",
       "      <td>1</td>\n",
       "      <td>Nile  Kagera</td>\n",
       "      <td>6650</td>\n",
       "      <td>4132</td>\n",
       "      <td>3254555.0</td>\n",
       "      <td>5100.0</td>\n",
       "      <td>Mediterranean</td>\n",
       "      <td>Ethiopia, Eritrea, Sudan, Uganda, Tanzania, Ke...</td>\n",
       "    </tr>\n",
       "    <tr>\n",
       "      <th>1</th>\n",
       "      <td>2</td>\n",
       "      <td>Amazon  Ucayali  Apurímac</td>\n",
       "      <td>6400</td>\n",
       "      <td>3976</td>\n",
       "      <td>7050000.0</td>\n",
       "      <td>219000.0</td>\n",
       "      <td>Atlantic Ocean</td>\n",
       "      <td>Brazil, Peru, Bolivia, Colombia, Ecuador, Vene...</td>\n",
       "    </tr>\n",
       "    <tr>\n",
       "      <th>2</th>\n",
       "      <td>3</td>\n",
       "      <td>Yangtze (Chang Jiang)</td>\n",
       "      <td>6300</td>\n",
       "      <td>3917</td>\n",
       "      <td>1800000.0</td>\n",
       "      <td>31900.0</td>\n",
       "      <td>East China Sea</td>\n",
       "      <td>China</td>\n",
       "    </tr>\n",
       "    <tr>\n",
       "      <th>3</th>\n",
       "      <td>4</td>\n",
       "      <td>MississippiMissouriJefferson</td>\n",
       "      <td>6275</td>\n",
       "      <td>3902</td>\n",
       "      <td>2980000.0</td>\n",
       "      <td>16200.0</td>\n",
       "      <td>Gulf of Mexico</td>\n",
       "      <td>United States (98.5%), Canada (1.5%)</td>\n",
       "    </tr>\n",
       "    <tr>\n",
       "      <th>4</th>\n",
       "      <td>5</td>\n",
       "      <td>YeniseiAngaraSelenge</td>\n",
       "      <td>5539</td>\n",
       "      <td>3445</td>\n",
       "      <td>2580000.0</td>\n",
       "      <td>19600.0</td>\n",
       "      <td>Kara Sea</td>\n",
       "      <td>Russia (97%), Mongolia (2.9%)</td>\n",
       "    </tr>\n",
       "  </tbody>\n",
       "</table>\n",
       "</div>"
      ],
      "text/plain": [
       "   Order                           River  Length (km)  Length (miles)  \\\n",
       "0      1                   Nile  Kagera         6650            4132   \n",
       "1      2     Amazon  Ucayali  Apurímac         6400            3976   \n",
       "2      3           Yangtze (Chang Jiang)         6300            3917   \n",
       "3      4  MississippiMissouriJefferson         6275            3902   \n",
       "4      5          YeniseiAngaraSelenge         5539            3445   \n",
       "\n",
       "   Drainage area (km2)  Average discharge (m3/s)         Outflow  \\\n",
       "0            3254555.0                    5100.0   Mediterranean   \n",
       "1            7050000.0                  219000.0  Atlantic Ocean   \n",
       "2            1800000.0                   31900.0  East China Sea   \n",
       "3            2980000.0                   16200.0  Gulf of Mexico   \n",
       "4            2580000.0                   19600.0        Kara Sea   \n",
       "\n",
       "                     Countries in the drainage basin  \n",
       "0  Ethiopia, Eritrea, Sudan, Uganda, Tanzania, Ke...  \n",
       "1  Brazil, Peru, Bolivia, Colombia, Ecuador, Vene...  \n",
       "2                                              China  \n",
       "3               United States (98.5%), Canada (1.5%)  \n",
       "4                      Russia (97%), Mongolia (2.9%)  "
      ]
     },
     "execution_count": 4,
     "metadata": {},
     "output_type": "execute_result"
    }
   ],
   "source": [
    "rivers = pd.read_csv(\"rivers.csv\", sep = \";\")\n",
    "rivers.head()"
   ]
  },
  {
   "cell_type": "code",
   "execution_count": 5,
   "metadata": {},
   "outputs": [
    {
     "data": {
      "text/plain": [
       "[<matplotlib.lines.Line2D at 0x7fdb61d68240>]"
      ]
     },
     "execution_count": 5,
     "metadata": {},
     "output_type": "execute_result"
    },
    {
     "data": {
      "image/png": "[encoded data removed]",
      "text/plain": [
       "<Figure size 432x288 with 1 Axes>"
      ]
     },
     "metadata": {
      "needs_background": "light"
     },
     "output_type": "display_data"
    }
   ],
   "source": [
    "plt.plot(rivers[\"Order\"], rivers[\"Length (km)\"])"
   ]
  },
  {
   "cell_type": "code",
   "execution_count": 6,
   "metadata": {},
   "outputs": [
    {
     "data": {
      "text/plain": [
       "[<matplotlib.lines.Line2D at 0x7fdb61dbcc50>]"
      ]
     },
     "execution_count": 6,
     "metadata": {},
     "output_type": "execute_result"
    },
    {
     "data": {
      "image/png": "[encoded data removed]",
      "text/plain": [
       "<Figure size 432x288 with 1 Axes>"
      ]
     },
     "metadata": {
      "needs_background": "light"
     },
     "output_type": "display_data"
    }
   ],
   "source": [
    "plt.plot(np.log(rivers[\"Order\"]), np.log(rivers[\"Length (km)\"]))"
   ]
  },
  {
   "cell_type": "code",
   "execution_count": 12,
   "metadata": {},
   "outputs": [],
   "source": [
    "from scipy import stats\n",
    "\n",
    "slope, intercept, r_value, p_value, std_err = stats.linregress(np.log(rivers[\"Order\"]), np.log(rivers[\"Length (km)\"]))\n"
   ]
  },
  {
   "cell_type": "code",
   "execution_count": 14,
   "metadata": {},
   "outputs": [
    {
     "data": {
      "text/plain": [
       "0.9618023250064511"
      ]
     },
     "execution_count": 14,
     "metadata": {},
     "output_type": "execute_result"
    }
   ],
   "source": [
    "r_value**2"
   ]
  },
  {
   "cell_type": "code",
   "execution_count": null,
   "metadata": {},
   "outputs": [],
   "source": []
  }
 ],
 "metadata": {
  "kernelspec": {
   "display_name": "Python 3",
   "language": "python",
   "name": "python3"
  },
  "language_info": {
   "codemirror_mode": {
    "name": "ipython",
    "version": 3
   },
   "file_extension": ".py",
   "mimetype": "text/x-python",
   "name": "python",
   "nbconvert_exporter": "python",
   "pygments_lexer": "ipython3",
   "version": "3.7.3"
  }
 },
 "nbformat": 4,
 "nbformat_minor": 2
}
