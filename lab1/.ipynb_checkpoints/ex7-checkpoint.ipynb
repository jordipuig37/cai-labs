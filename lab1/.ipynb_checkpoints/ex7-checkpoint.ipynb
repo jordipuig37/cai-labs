{
 "cells": [
  {
   "cell_type": "code",
   "execution_count": 2,
   "metadata": {},
   "outputs": [],
   "source": [
    "# imports\n",
    "from os import listdir\n",
    "from os.path import isfile, join, isdir"
   ]
  },
  {
   "cell_type": "code",
   "execution_count": 62,
   "metadata": {},
   "outputs": [],
   "source": [
    "import pandas as pd\n",
    "import matplotlib.pyplot as plt\n",
    "import numpy as np"
   ]
  },
  {
   "cell_type": "code",
   "execution_count": 3,
   "metadata": {},
   "outputs": [],
   "source": [
    "import string\n",
    "translator = str.maketrans(string.punctuation, ' '*len(string.punctuation))"
   ]
  },
  {
   "cell_type": "markdown",
   "metadata": {},
   "source": [
    "The function we have to complete:"
   ]
  },
  {
   "cell_type": "code",
   "execution_count": 64,
   "metadata": {},
   "outputs": [],
   "source": [
    "def readWords(path,output_filename): \n",
    "    dicc = {} # dictionary counting words {word: count}\n",
    "    for f in listdir(path):\n",
    "        ff = join(path,f)\n",
    "        #print(\"procesing \",ff)\n",
    "        for line in open(ff, \"r\", encoding = \"utf8\"):\n",
    "            line = line.translate(translator)\n",
    "            line = line.lower()\n",
    "            for word in line.split():\n",
    "                if word in dicc.keys():\n",
    "                    dicc[word] += 1\n",
    "                else:\n",
    "                    dicc[word] = 1\n",
    "    # from the dictionary to a dataframe\n",
    "    l = []\n",
    "    for item in dicc.keys():\n",
    "        l.append([item, dicc[item]])\n",
    "    l.sort(key=lambda x:-x[1])\n",
    "    # write it to file output_filename adding index in front\n",
    "    df = pd.DataFrame(l, columns = [\"word\", \"count\"])\n",
    "    df[\"index\"] = range(1, len(l)+1)\n",
    "    df.to_csv(output_filename + '.csv')\n",
    "    print(\"done\")\n",
    "    return df"
   ]
  },
  {
   "cell_type": "code",
   "execution_count": 65,
   "metadata": {},
   "outputs": [
    {
     "name": "stdout",
     "output_type": "stream",
     "text": [
      "done\n"
     ]
    }
   ],
   "source": [
    "df = readWords(\"novels\",\"outputfile\")"
   ]
  },
  {
   "cell_type": "markdown",
   "metadata": {},
   "source": [
    "### Exercise 8\n",
    "\n",
    "In order to see if the word frequencies look like a power law we are going to plot the result in a log-log scale. We can see that it looks like a straight line in the center of the plot. Because of that we conclude it folows a power law."
   ]
  },
  {
   "cell_type": "code",
   "execution_count": 66,
   "metadata": {},
   "outputs": [
    {
     "data": {
      "text/plain": [
       "[<matplotlib.lines.Line2D at 0x7f943fffd128>]"
      ]
     },
     "execution_count": 66,
     "metadata": {},
     "output_type": "execute_result"
    },
    {
     "data": {
      "image/png": "[encoded data removed]",
      "text/plain": [
       "<Figure size 432x288 with 1 Axes>"
      ]
     },
     "metadata": {
      "needs_background": "light"
     },
     "output_type": "display_data"
    }
   ],
   "source": [
    "plt.plot(np.log(df[\"index\"]), np.log(df[\"count\"]))"
   ]
  },
  {
   "cell_type": "code",
   "execution_count": 91,
   "metadata": {},
   "outputs": [
    {
     "name": "stdout",
     "output_type": "stream",
     "text": [
      "0.966346554860124\n"
     ]
    }
   ],
   "source": [
    "from scipy import stats\n",
    "x = np.log(df[\"index\"])\n",
    "y = np.log(df[\"count\"])\n",
    "slope, intercept, r_value, p_value, std_err = stats.linregress(x, y)\n",
    "print(r_value**2)"
   ]
  },
  {
   "cell_type": "code",
   "execution_count": 92,
   "metadata": {},
   "outputs": [],
   "source": [
    "def abline(slope, intercept):\n",
    "    \"\"\"Plot a line from slope and intercept\"\"\"\n",
    "    axes = plt.gca()\n",
    "    x_vals = np.array(axes.get_xlim())\n",
    "    y_vals = intercept + slope * x_vals\n",
    "    plt.plot(x_vals, y_vals, '-')"
   ]
  },
  {
   "cell_type": "code",
   "execution_count": 94,
   "metadata": {},
   "outputs": [
    {
     "data": {
      "image/png": "[encoded data removed]",
      "text/plain": [
       "<Figure size 432x288 with 1 Axes>"
      ]
     },
     "metadata": {
      "needs_background": "light"
     },
     "output_type": "display_data"
    }
   ],
   "source": [
    "plt.plot(x, y)\n",
    "abline(slope, intercept)\n",
    "plt.show()"
   ]
  },
  {
   "cell_type": "markdown",
   "metadata": {},
   "source": [
    "### Exercise 9\n",
    "\n",
    "Change the program so that for some k, it prints the number of different words in the collection after it has read k, 2k, 3k, 4k, etc. words from the collection. Collect the output of pairs {(ik, distinct words after reading ik words)}. Create a plot and check whether the distribution looks like a powerlaw.\n",
    "Actually y(N) is called Heaps’ law, and tends to follow a powerlaw with an exponent in [0..1]."
   ]
  },
  {
   "cell_type": "code",
   "execution_count": 111,
   "metadata": {},
   "outputs": [],
   "source": [
    "def readDifferentWords(path,output_filename, k): \n",
    "    dicc = {} # dictionary counting different words {word: 1}\n",
    "    distinct_over_wr = [] # number of distinct words at every ik\n",
    "    words_read = 0 # words read counter\n",
    "    for f in listdir(path):\n",
    "        ff = join(path,f)\n",
    "        #print(\"procesing \",ff)\n",
    "        for line in open(ff, \"r\", encoding = \"utf8\"):\n",
    "            line = line.translate(translator)\n",
    "            line = line.lower()\n",
    "            for word in line.split():\n",
    "                words_read += 1\n",
    "                if word not in dicc.keys():\n",
    "                    dicc[word] = 1\n",
    "                if words_read % k == 0:\n",
    "                    distinct_over_wr.append((words_read, len(dicc)))\n",
    "    # from the list to a dataframe\n",
    "    \n",
    "    # write it to file output_filename adding index in front\n",
    "    df = pd.DataFrame(distinct_over_wr, columns = [\"words read\", \"differents\"])\n",
    "\n",
    "    df.to_csv(output_filename + '.csv')\n",
    "    print(\"done\")\n",
    "    return df"
   ]
  },
  {
   "cell_type": "code",
   "execution_count": 116,
   "metadata": {},
   "outputs": [
    {
     "name": "stdout",
     "output_type": "stream",
     "text": [
      "done\n"
     ]
    },
    {
     "data": {
      "text/html": [
       "<div>\n",
       "<style scoped>\n",
       "    .dataframe tbody tr th:only-of-type {\n",
       "        vertical-align: middle;\n",
       "    }\n",
       "\n",
       "    .dataframe tbody tr th {\n",
       "        vertical-align: top;\n",
       "    }\n",
       "\n",
       "    .dataframe thead th {\n",
       "        text-align: right;\n",
       "    }\n",
       "</style>\n",
       "<table border=\"1\" class=\"dataframe\">\n",
       "  <thead>\n",
       "    <tr style=\"text-align: right;\">\n",
       "      <th></th>\n",
       "      <th>words read</th>\n",
       "      <th>differents</th>\n",
       "    </tr>\n",
       "  </thead>\n",
       "  <tbody>\n",
       "    <tr>\n",
       "      <th>0</th>\n",
       "      <td>100</td>\n",
       "      <td>57</td>\n",
       "    </tr>\n",
       "    <tr>\n",
       "      <th>1</th>\n",
       "      <td>200</td>\n",
       "      <td>120</td>\n",
       "    </tr>\n",
       "    <tr>\n",
       "      <th>2</th>\n",
       "      <td>300</td>\n",
       "      <td>171</td>\n",
       "    </tr>\n",
       "    <tr>\n",
       "      <th>3</th>\n",
       "      <td>400</td>\n",
       "      <td>214</td>\n",
       "    </tr>\n",
       "    <tr>\n",
       "      <th>4</th>\n",
       "      <td>500</td>\n",
       "      <td>262</td>\n",
       "    </tr>\n",
       "  </tbody>\n",
       "</table>\n",
       "</div>"
      ],
      "text/plain": [
       "   words read  differents\n",
       "0         100          57\n",
       "1         200         120\n",
       "2         300         171\n",
       "3         400         214\n",
       "4         500         262"
      ]
     },
     "execution_count": 116,
     "metadata": {},
     "output_type": "execute_result"
    }
   ],
   "source": [
    "different = readDifferentWords(\"novels\", \"different\", 100)\n",
    "different.head()"
   ]
  },
  {
   "cell_type": "code",
   "execution_count": 117,
   "metadata": {},
   "outputs": [
    {
     "data": {
      "text/plain": [
       "[<matplotlib.lines.Line2D at 0x7f94458a9cf8>]"
      ]
     },
     "execution_count": 117,
     "metadata": {},
     "output_type": "execute_result"
    },
    {
     "data": {
      "image/png": "[encoded data removed]",
      "text/plain": [
       "<Figure size 432x288 with 1 Axes>"
      ]
     },
     "metadata": {
      "needs_background": "light"
     },
     "output_type": "display_data"
    }
   ],
   "source": [
    "plt.plot(different[\"words read\"], different[\"differents\"])"
   ]
  },
  {
   "cell_type": "code",
   "execution_count": 118,
   "metadata": {},
   "outputs": [
    {
     "data": {
      "text/plain": [
       "[<matplotlib.lines.Line2D at 0x7f9444455400>]"
      ]
     },
     "execution_count": 118,
     "metadata": {},
     "output_type": "execute_result"
    },
    {
     "data": {
      "image/png": "[encoded data removed]",
      "text/plain": [
       "<Figure size 432x288 with 1 Axes>"
      ]
     },
     "metadata": {
      "needs_background": "light"
     },
     "output_type": "display_data"
    }
   ],
   "source": [
    "plt.plot(np.log(different[\"words read\"]), np.log(different[\"differents\"]))"
   ]
  },
  {
   "cell_type": "code",
   "execution_count": null,
   "metadata": {},
   "outputs": [],
   "source": []
  }
 ],
 "metadata": {
  "kernelspec": {
   "display_name": "Python 3",
   "language": "python",
   "name": "python3"
  },
  "language_info": {
   "codemirror_mode": {
    "name": "ipython",
    "version": 3
   },
   "file_extension": ".py",
   "mimetype": "text/x-python",
   "name": "python",
   "nbconvert_exporter": "python",
   "pygments_lexer": "ipython3",
   "version": "3.7.3"
  }
 },
 "nbformat": 4,
 "nbformat_minor": 2
}
